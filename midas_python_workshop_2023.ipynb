{
 "cells": [
  {
   "cell_type": "markdown",
   "metadata": {
    "deletable": false,
    "editable": false,
    "nbgrader": {
     "cell_type": "markdown",
     "checksum": "3e69221dea69e3422299773c0c81769f",
     "grade": false,
     "grade_id": "cell-796c066b1d873653",
     "locked": true,
     "schema_version": 3,
     "solution": false,
     "task": false
    }
   },
   "source": [
    "# MIDAS Python Workshop, Afternoon, 2023\n",
    "## Part 1: Python basics"
   ]
  },
  {
   "cell_type": "markdown",
   "metadata": {
    "deletable": false,
    "editable": false,
    "nbgrader": {
     "cell_type": "markdown",
     "checksum": "01c96ce6364dd671b82244388824bb3b",
     "grade": false,
     "grade_id": "cell-7148dbe2ddfec6f4",
     "locked": true,
     "schema_version": 3,
     "solution": false,
     "task": false
    }
   },
   "source": [
    "### Problem 1\n",
    "Write a function that takes two integers as arguments. Return the first argument if it is a positive number. Otherwise, return the sum of both arguments."
   ]
  },
  {
   "cell_type": "code",
   "execution_count": null,
   "metadata": {
    "deletable": false,
    "nbgrader": {
     "cell_type": "code",
     "checksum": "b89e8dcf6131821a0610f4f96faf0374",
     "grade": false,
     "grade_id": "cell-db7233a2d95c6406",
     "locked": false,
     "schema_version": 3,
     "solution": true,
     "task": false
    }
   },
   "outputs": [],
   "source": [
    "def positive_or_sum(x, y):\n",
    "    # YOUR CODE HERE\n",
    "    raise NotImplementedError()"
   ]
  },
  {
   "cell_type": "code",
   "execution_count": null,
   "metadata": {
    "deletable": false,
    "editable": false,
    "nbgrader": {
     "cell_type": "code",
     "checksum": "fe9b1500716b0e822837a0f8594b73a2",
     "grade": true,
     "grade_id": "cell-d525ecbed5402db1",
     "locked": true,
     "points": 1,
     "schema_version": 3,
     "solution": false,
     "task": false
    }
   },
   "outputs": [],
   "source": [
    "assert positive_or_sum(42, 16) == 42\n",
    "assert positive_or_sum(33, 13) == 33\n",
    "assert positive_or_sum(-33, 13) == -20"
   ]
  },
  {
   "cell_type": "markdown",
   "metadata": {
    "deletable": false,
    "editable": false,
    "nbgrader": {
     "cell_type": "markdown",
     "checksum": "03bac1cb8de3e435bbbd1972a001e196",
     "grade": false,
     "grade_id": "cell-2166b906084a9441",
     "locked": true,
     "schema_version": 3,
     "solution": false,
     "task": false
    }
   },
   "source": [
    "### Problem 2\n",
    "Write a function named `sum_naturals_while` that takes one argument `n` and use a `while` loop to compute the sum of the first $n$ natural numbers (starting with $1$)."
   ]
  },
  {
   "cell_type": "code",
   "execution_count": null,
   "metadata": {
    "deletable": false,
    "nbgrader": {
     "cell_type": "code",
     "checksum": "ef8d4c9545438faf2eeb7580ac3acff8",
     "grade": false,
     "grade_id": "cell-9045223e53391c1c",
     "locked": false,
     "schema_version": 3,
     "solution": true,
     "task": false
    }
   },
   "outputs": [],
   "source": [
    "def sum_naturals_while(n):\n",
    "    # YOUR CODE HERE\n",
    "    raise NotImplementedError()"
   ]
  },
  {
   "cell_type": "code",
   "execution_count": null,
   "metadata": {
    "deletable": false,
    "editable": false,
    "nbgrader": {
     "cell_type": "code",
     "checksum": "0383324231e4537863c3b0dbe452b4b0",
     "grade": true,
     "grade_id": "cell-78c04715a9273632",
     "locked": true,
     "points": 0,
     "schema_version": 3,
     "solution": false,
     "task": false
    }
   },
   "outputs": [],
   "source": [
    "assert sum_naturals_while(1) == 1\n",
    "assert sum_naturals_while(2) == 3\n",
    "assert sum_naturals_while(3) == 6"
   ]
  },
  {
   "cell_type": "markdown",
   "metadata": {
    "deletable": false,
    "editable": false,
    "nbgrader": {
     "cell_type": "markdown",
     "checksum": "ded0360ea602072dd920d800ddd1d94b",
     "grade": false,
     "grade_id": "cell-118df16849cc1acd",
     "locked": true,
     "schema_version": 3,
     "solution": false,
     "task": false
    }
   },
   "source": [
    "### Problem 3: Fun with Strings\n",
    "A palindrome is a word or phrase that reads the same backwards and forwards. Write a function called `is_palindrome`, which takes a string as its only argument, and returns a Boolean. Your function should ignore spaces and capitalization in assessing whether or not a string is a palindrome, so that \"tacocat\" and \"T A C O cat\" are both considered palindromes."
   ]
  },
  {
   "cell_type": "code",
   "execution_count": null,
   "metadata": {
    "deletable": false,
    "nbgrader": {
     "cell_type": "code",
     "checksum": "9542c07be3fb77916001e2fdbf88a755",
     "grade": false,
     "grade_id": "cell-7ae0586d5accba08",
     "locked": false,
     "schema_version": 3,
     "solution": true,
     "task": false
    }
   },
   "outputs": [],
   "source": [
    "def is_palindrome(string):\n",
    "    # YOUR CODE HERE\n",
    "    raise NotImplementedError()"
   ]
  },
  {
   "cell_type": "code",
   "execution_count": null,
   "metadata": {
    "deletable": false,
    "editable": false,
    "nbgrader": {
     "cell_type": "code",
     "checksum": "b8244aaa8cba733e6316dc86c316c61b",
     "grade": true,
     "grade_id": "cell-50df4deb8bcd2e47",
     "locked": true,
     "points": 0,
     "schema_version": 3,
     "solution": false,
     "task": false
    }
   },
   "outputs": [],
   "source": [
    "assert type(is_palindrome('level')) == bool\n",
    "assert is_palindrome('level') == True\n",
    "assert is_palindrome('WAS it a car or a cat I saw') == True\n",
    "assert is_palindrome(' ') == True"
   ]
  },
  {
   "cell_type": "markdown",
   "metadata": {
    "deletable": false,
    "editable": false,
    "nbgrader": {
     "cell_type": "markdown",
     "checksum": "71b2ebeaf004b6cc1625189263169016",
     "grade": false,
     "grade_id": "cell-a45b75eea460b16b",
     "locked": true,
     "schema_version": 3,
     "solution": false,
     "task": false
    }
   },
   "source": [
    "### Problem 4: Fun with Lists\n",
    "1. <b>(2 points)</b> Write a function `list_reverse` that takes a list as an argument and returns that list, reversed. Your function should perform error checking to ensure that the input is a list. "
   ]
  },
  {
   "cell_type": "code",
   "execution_count": null,
   "metadata": {
    "deletable": false,
    "nbgrader": {
     "cell_type": "code",
     "checksum": "ffbe59d112b8e781ba7877963532ab40",
     "grade": false,
     "grade_id": "cell-12f09bb2be5b3a31",
     "locked": false,
     "schema_version": 3,
     "solution": true,
     "task": false
    }
   },
   "outputs": [],
   "source": [
    "def list_reverse(l):\n",
    "    # YOUR CODE HERE\n",
    "    raise NotImplementedError()"
   ]
  },
  {
   "cell_type": "code",
   "execution_count": null,
   "metadata": {
    "deletable": false,
    "editable": false,
    "nbgrader": {
     "cell_type": "code",
     "checksum": "f4a35367e13e851d3d328ba2762b5ea9",
     "grade": true,
     "grade_id": "cell-57b598c882f76f13",
     "locked": true,
     "points": 0,
     "schema_version": 3,
     "solution": false,
     "task": false
    }
   },
   "outputs": [],
   "source": [
    "assert list_reverse (['this should be the same list']) == ['this should be the same list']\n",
    "assert type(list_reverse([1,2,3,9])) == list\n",
    "assert list_reverse([1, 2, 3]) == [3, 2, 1]"
   ]
  },
  {
   "cell_type": "markdown",
   "metadata": {
    "deletable": false,
    "editable": false,
    "nbgrader": {
     "cell_type": "markdown",
     "checksum": "64ecb04689eec14085505063dedbf313",
     "grade": false,
     "grade_id": "cell-96787a735861c734",
     "locked": true,
     "schema_version": 3,
     "solution": false,
     "task": false
    }
   },
   "source": [
    "### Problem 5\n",
    "Write a function `is_sorted` that takes a sequence `seq` as its only argument and returns True if the sequence is sorted in ascending order and returns False otherwise."
   ]
  },
  {
   "cell_type": "code",
   "execution_count": null,
   "metadata": {
    "deletable": false,
    "nbgrader": {
     "cell_type": "code",
     "checksum": "c3ef6d42bfe62041b55f9cd136380989",
     "grade": false,
     "grade_id": "cell-17e459df08cb0306",
     "locked": false,
     "schema_version": 3,
     "solution": true,
     "task": false
    }
   },
   "outputs": [],
   "source": [
    "def is_sorted(seq):\n",
    "    # YOUR CODE HERE\n",
    "    raise NotImplementedError()"
   ]
  },
  {
   "cell_type": "code",
   "execution_count": null,
   "metadata": {
    "deletable": false,
    "editable": false,
    "nbgrader": {
     "cell_type": "code",
     "checksum": "655911a0cc5168db61b2f937696cf5c0",
     "grade": true,
     "grade_id": "cell-211d6372e5b2d3e4",
     "locked": true,
     "points": 0,
     "schema_version": 3,
     "solution": false,
     "task": false
    }
   },
   "outputs": [],
   "source": [
    "assert is_sorted('abbde') == True\n",
    "assert is_sorted([1, 2, 3, 3, 5]) == True"
   ]
  },
  {
   "cell_type": "markdown",
   "metadata": {
    "deletable": false,
    "editable": false,
    "nbgrader": {
     "cell_type": "markdown",
     "checksum": "027b7e488f99142582aa88de4315bb9d",
     "grade": false,
     "grade_id": "cell-0f94fb132e307152",
     "locked": true,
     "schema_version": 3,
     "solution": false,
     "task": false
    }
   },
   "source": [
    "### Problem 6: Fun with Tuples\n",
    "Write a function called `my_sum` that takes any number of numeric (ints and floats) arguments, and returns the sum of its arguments."
   ]
  },
  {
   "cell_type": "code",
   "execution_count": null,
   "metadata": {
    "deletable": false,
    "nbgrader": {
     "cell_type": "code",
     "checksum": "b69b0133aead78976713ddabc7706069",
     "grade": false,
     "grade_id": "cell-90314c57dc46cc64",
     "locked": false,
     "schema_version": 3,
     "solution": true,
     "task": false
    }
   },
   "outputs": [],
   "source": [
    "def my_sum(*vector):\n",
    "    # YOUR CODE HERE\n",
    "    raise NotImplementedError()"
   ]
  },
  {
   "cell_type": "code",
   "execution_count": null,
   "metadata": {
    "deletable": false,
    "editable": false,
    "nbgrader": {
     "cell_type": "code",
     "checksum": "811312bd7d968c590e256900c155db03",
     "grade": true,
     "grade_id": "cell-7b6659c43e10dc6d",
     "locked": true,
     "points": 0,
     "schema_version": 3,
     "solution": false,
     "task": false
    }
   },
   "outputs": [],
   "source": [
    "assert my_sum(3.2,4.1,-3) == 4.3\n",
    "assert my_sum(3,4) == 7"
   ]
  },
  {
   "cell_type": "markdown",
   "metadata": {
    "deletable": false,
    "editable": false,
    "nbgrader": {
     "cell_type": "markdown",
     "checksum": "e4e19ea16101a4b3ccf7ad05b38b93d7",
     "grade": false,
     "grade_id": "cell-d120a61c66d40dc4",
     "locked": true,
     "schema_version": 3,
     "solution": false,
     "task": false
    }
   },
   "source": [
    "### Problem 7: Function with Dictionaries\n",
    "Write a function that concatenates two dictionaries to create a new one. You can assume the two input dictionaries have no keys in common."
   ]
  },
  {
   "cell_type": "code",
   "execution_count": null,
   "metadata": {
    "deletable": false,
    "nbgrader": {
     "cell_type": "code",
     "checksum": "c2b1d7181783b43e2e22154e38370d2a",
     "grade": false,
     "grade_id": "cell-c38834f58aa2c195",
     "locked": false,
     "schema_version": 3,
     "solution": true,
     "task": false
    }
   },
   "outputs": [],
   "source": [
    "def dict_concat(dict1, dict2):\n",
    "    # YOUR CODE HERE\n",
    "    raise NotImplementedError()"
   ]
  },
  {
   "cell_type": "code",
   "execution_count": null,
   "metadata": {
    "deletable": false,
    "editable": false,
    "nbgrader": {
     "cell_type": "code",
     "checksum": "3311800db6cfcc0e10f85301bcf5e53a",
     "grade": true,
     "grade_id": "cell-78d03728839b5f2c",
     "locked": true,
     "points": 0,
     "schema_version": 3,
     "solution": false,
     "task": false
    }
   },
   "outputs": [],
   "source": [
    "assert dict_concat({\"rice\": 4}, {\"beans\": 7}) == {\"rice\": 4, \"beans\": 7}"
   ]
  },
  {
   "cell_type": "markdown",
   "metadata": {
    "deletable": false,
    "editable": false,
    "nbgrader": {
     "cell_type": "markdown",
     "checksum": "1cce1c23db51e781e490eea41d277b94",
     "grade": false,
     "grade_id": "cell-848ccf32369ee434",
     "locked": true,
     "schema_version": 3,
     "solution": false,
     "task": false
    }
   },
   "source": [
    "### Problem 8: Rotating tuples\n",
    "Write a function called `rotate_tuple` that takes two arguments: a tuple and an integer, in that order. Letting $n$ be the integer given in the input, your function should return a tuple of the same length as the input tuple, but with its entries “rotated” by n. If n is positive, this should mean to “push forward” all the entries of the input tuple by n entries, with entries that “go off the end” of the tuple being wrapped around to the beginning, so that the $i^{th}$ entry of the input tuple becomes the $(i + n)^{th}$ entry of the output, wrapping around to the beginning of the tuple if this index goes off the end. If n is negative, then this corresponds to rotating the entries in the other direction, with entries of the input tuple being “pushed backward”."
   ]
  },
  {
   "cell_type": "code",
   "execution_count": null,
   "metadata": {
    "deletable": false,
    "nbgrader": {
     "cell_type": "code",
     "checksum": "905e95d7e30b8595d685f388f4d2b1ec",
     "grade": false,
     "grade_id": "cell-12a83966d1802c7f",
     "locked": false,
     "schema_version": 3,
     "solution": true,
     "task": false
    }
   },
   "outputs": [],
   "source": [
    "def rotate_tuple(t, n):\n",
    "    # YOUR CODE HERE\n",
    "    raise NotImplementedError()"
   ]
  },
  {
   "cell_type": "code",
   "execution_count": null,
   "metadata": {
    "deletable": false,
    "editable": false,
    "nbgrader": {
     "cell_type": "code",
     "checksum": "a1705aa75807e2a70f5032bd45f5ccff",
     "grade": true,
     "grade_id": "cell-575be7dc46c02658",
     "locked": true,
     "points": 0,
     "schema_version": 3,
     "solution": false,
     "task": false
    }
   },
   "outputs": [],
   "source": [
    "assert type(rotate_tuple((1,2,3,4), 5)) == tuple\n",
    "assert rotate_tuple((1,2,3,4,5,6,7),2) == (6,7,1,2,3,4,5)\n",
    "assert rotate_tuple((1,2,3,4,5,6,7),-2) == (3,4,5,6,7,1,2)"
   ]
  },
  {
   "cell_type": "markdown",
   "metadata": {
    "deletable": false,
    "editable": false,
    "nbgrader": {
     "cell_type": "markdown",
     "checksum": "1192b5fd57b96f1869c8f1af0b842647",
     "grade": false,
     "grade_id": "cell-d86fec05db15ff4d",
     "locked": true,
     "schema_version": 3,
     "solution": false,
     "task": false
    }
   },
   "source": [
    "## Part 2: Numpy\n",
    "### Problem 9\n",
    "Convert a numpy array of Celsius measurements to Fahrenheit."
   ]
  },
  {
   "cell_type": "code",
   "execution_count": null,
   "metadata": {
    "deletable": false,
    "nbgrader": {
     "cell_type": "code",
     "checksum": "bfbdba54a6d7d33dffb70d82ad88f8d7",
     "grade": true,
     "grade_id": "cell-0a45e37e73575c3a",
     "locked": false,
     "points": 0,
     "schema_version": 3,
     "solution": true,
     "task": false
    }
   },
   "outputs": [],
   "source": [
    "import numpy as np\n",
    "\n",
    "def convert_to_fahrenheit(celsius_temps):\n",
    "    # YOUR CODE HERE\n",
    "    raise NotImplementedError()"
   ]
  },
  {
   "cell_type": "code",
   "execution_count": null,
   "metadata": {
    "deletable": false,
    "editable": false,
    "nbgrader": {
     "cell_type": "code",
     "checksum": "0feacb3c9c846d99a23dd4980c04f31c",
     "grade": true,
     "grade_id": "cell-5f36d4ed13034b2d",
     "locked": true,
     "points": 0,
     "schema_version": 3,
     "solution": false,
     "task": false
    }
   },
   "outputs": [],
   "source": [
    "assert np.all(np.abs(convert_to_fahrenheit(np.zeros(4)) - 32.) < 1e-8)\n",
    "assert np.all(np.abs(convert_to_fahrenheit(np.ones((10, 10)) * 100) - 212.) < 1e-8)"
   ]
  },
  {
   "cell_type": "markdown",
   "metadata": {
    "deletable": false,
    "editable": false,
    "nbgrader": {
     "cell_type": "markdown",
     "checksum": "b0cba9870a8100512421b06da5a7a86b",
     "grade": false,
     "grade_id": "cell-aab892bb22894d9a",
     "locked": true,
     "schema_version": 3,
     "solution": false,
     "task": false
    }
   },
   "source": [
    "### Problem 10\n",
    "Use numpy to create a function that adds a border filled with zeros around an existing array.\n",
    "\n",
    "*Hint*: Use numpy's `pad` function. See https://numpy.org/doc/stable/reference/generated/numpy.pad.html"
   ]
  },
  {
   "cell_type": "code",
   "execution_count": null,
   "metadata": {
    "deletable": false,
    "nbgrader": {
     "cell_type": "code",
     "checksum": "4a9fdc51441764cb213673f6a536d1d8",
     "grade": false,
     "grade_id": "cell-6f84a164211b781b",
     "locked": false,
     "schema_version": 3,
     "solution": true,
     "task": false
    }
   },
   "outputs": [],
   "source": [
    "def add_border(x):\n",
    "    # YOUR CODE HERE\n",
    "    raise NotImplementedError()"
   ]
  },
  {
   "cell_type": "code",
   "execution_count": null,
   "metadata": {
    "deletable": false,
    "editable": false,
    "nbgrader": {
     "cell_type": "code",
     "checksum": "cf74070e68b20da963e66725e90909d5",
     "grade": true,
     "grade_id": "cell-fc67e1622f9dde62",
     "locked": true,
     "points": 0,
     "schema_version": 3,
     "solution": false,
     "task": false
    }
   },
   "outputs": [],
   "source": [
    "x = np.ones((1, 1))\n",
    "claimed = add_border(x)\n",
    "correct = np.zeros((3, 3))\n",
    "correct[1, 1] = 1.0\n",
    "assert claimed.shape == correct.shape\n",
    "assert np.all(np.abs(claimed - correct) < 1e-8)"
   ]
  },
  {
   "cell_type": "markdown",
   "metadata": {
    "deletable": false,
    "editable": false,
    "nbgrader": {
     "cell_type": "markdown",
     "checksum": "2ab7e1a9a0133b785b6a3091520e0fe8",
     "grade": false,
     "grade_id": "cell-dda752ed55e15246",
     "locked": true,
     "schema_version": 3,
     "solution": false,
     "task": false
    }
   },
   "source": [
    "### Problem 11\n",
    "Suppose \\begin{equation} \n",
    "f(x) = \\begin{cases} \\frac{ \\sqrt{4-x^2} }{ 2\\pi }\n",
    "\t\t\t&\\mbox{ if } -2 \\le x \\le 2 \\\\\n",
    "\t\t0 &\\mbox{ otherwise.} \\end{cases}\n",
    "\\end{equation}\n",
    "\n",
    "Define a function `wigner_density` that takes a single number (integer or float) as its input and returns a float as its output, given by the value of $f$ evaluated at the input. Your function should operate equally well on Python ints/floats and on __numpy__ ints/floats, and you should be able to accomplish this without checking the type of the input. Use the `numpy.sqrt` function for the square root, not the Python `math.sqrt` function."
   ]
  },
  {
   "cell_type": "code",
   "execution_count": null,
   "metadata": {
    "deletable": false,
    "nbgrader": {
     "cell_type": "code",
     "checksum": "eaf047a41a8a08a8705425e5e50f3240",
     "grade": false,
     "grade_id": "cell-d64e9a02985d3ca8",
     "locked": false,
     "schema_version": 3,
     "solution": true,
     "task": false
    }
   },
   "outputs": [],
   "source": [
    "def wigner_density(x):\n",
    "    # YOUR CODE HERE\n",
    "    raise NotImplementedError()"
   ]
  },
  {
   "cell_type": "code",
   "execution_count": null,
   "metadata": {
    "deletable": false,
    "editable": false,
    "nbgrader": {
     "cell_type": "code",
     "checksum": "1fd00a1bbd3e3d89c62b95730397e99c",
     "grade": true,
     "grade_id": "cell-f51fe2e26153aee3",
     "locked": true,
     "points": 0,
     "schema_version": 3,
     "solution": false,
     "task": false
    }
   },
   "outputs": [],
   "source": [
    "assert wigner_density(2) == 0\n",
    "assert wigner_density(1) == np.sqrt(3)/(2.0*np.pi)"
   ]
  },
  {
   "cell_type": "markdown",
   "metadata": {
    "deletable": false,
    "editable": false,
    "nbgrader": {
     "cell_type": "markdown",
     "checksum": "3e75ed34f6f2dfcc5c0072a1fd293618",
     "grade": false,
     "grade_id": "cell-e2a46c81eda4489c",
     "locked": true,
     "schema_version": 3,
     "solution": false,
     "task": false
    }
   },
   "source": [
    "### Problem 12\n",
    "The density of a multivariate normal distribution is\n",
    "$f(x) = (2\\pi)^{-k/2}\\mathrm{det}(\\Sigma)^{-1/2}e^{-\\frac{1}{2}(x - \\mu)^\\top \\Sigma^{-1} (x - \\mu)}$, where $x$ is the data, $k$ is the dimension of the data, $\\mu$ is the mean, and $\\Sigma$ is the covariance.\n",
    "\n",
    "Write a function that computes this density using only numpy (and built-in Python commands);\n",
    "do not use `scipy.stats.multivariate_normal`."
   ]
  },
  {
   "cell_type": "code",
   "execution_count": null,
   "metadata": {
    "deletable": false,
    "nbgrader": {
     "cell_type": "code",
     "checksum": "b748b5b914b8bb2ac1a872cbd5a2c59b",
     "grade": false,
     "grade_id": "cell-2f7e04935c5a8af9",
     "locked": false,
     "schema_version": 3,
     "solution": true,
     "task": false
    }
   },
   "outputs": [],
   "source": [
    "def mvn_pdf(x, mean, cov):\n",
    "    # YOUR CODE HERE\n",
    "    raise NotImplementedError()"
   ]
  },
  {
   "cell_type": "code",
   "execution_count": null,
   "metadata": {
    "deletable": false,
    "editable": false,
    "nbgrader": {
     "cell_type": "code",
     "checksum": "7d4c8f0c0b9d5e3f2c90cf118305eab9",
     "grade": true,
     "grade_id": "cell-1ed23f7e13b77de7",
     "locked": true,
     "points": 0,
     "schema_version": 3,
     "solution": false,
     "task": false
    }
   },
   "outputs": [],
   "source": [
    "from scipy.stats import multivariate_normal\n",
    "import numpy as np\n",
    "\n",
    "x = np.zeros(2)\n",
    "mean = np.zeros(2)\n",
    "cov = np.eye(2)\n",
    "claimed = mvn_pdf(x, mean, cov)\n",
    "rv = multivariate_normal(mean=mean, cov=cov)\n",
    "correct = rv.pdf(x)\n",
    "assert (claimed - correct) < 1e-8\n",
    "\n",
    "x = np.ones(2)\n",
    "mean = np.ones(2) * .7\n",
    "mean[1] += .3\n",
    "cov = np.eye(2) + 0.5\n",
    "cov[0, 0] += 3\n",
    "claimed = mvn_pdf(x, mean, cov)\n",
    "rv = multivariate_normal(mean=mean, cov=cov)\n",
    "correct = rv.pdf(x)\n",
    "assert (claimed - correct) < 1e-8"
   ]
  },
  {
   "cell_type": "markdown",
   "metadata": {
    "deletable": false,
    "editable": false,
    "nbgrader": {
     "cell_type": "markdown",
     "checksum": "bea2924314ceb0754042884960feb6b3",
     "grade": false,
     "grade_id": "cell-27ad455a4e0dcb37",
     "locked": true,
     "schema_version": 3,
     "solution": false,
     "task": false
    }
   },
   "source": [
    "## Part 3: Pandas\n",
    "### Problem 13: Filtering and computing a mean\n",
    "Write a function that returns the average rainfall on days with wind speed above 6 mph."
   ]
  },
  {
   "cell_type": "code",
   "execution_count": null,
   "metadata": {
    "deletable": false,
    "nbgrader": {
     "cell_type": "code",
     "checksum": "1d0ace19d6a55888399406e8ee8b3c72",
     "grade": false,
     "grade_id": "cell-5e2bfa6d8f003e12",
     "locked": false,
     "schema_version": 3,
     "solution": true,
     "task": false
    }
   },
   "outputs": [],
   "source": [
    "# YOUR CODE HERE\n",
    "raise NotImplementedError()"
   ]
  },
  {
   "cell_type": "code",
   "execution_count": null,
   "metadata": {
    "deletable": false,
    "nbgrader": {
     "cell_type": "code",
     "checksum": "3e37df0b9d4228e003fe69a125a0e849",
     "grade": false,
     "grade_id": "cell-b9e85016e94b2f74",
     "locked": false,
     "schema_version": 3,
     "solution": true,
     "task": false
    }
   },
   "outputs": [],
   "source": [
    "def windy_rain():\n",
    "    # YOUR CODE HERE\n",
    "    raise NotImplementedError()"
   ]
  },
  {
   "cell_type": "code",
   "execution_count": null,
   "metadata": {
    "deletable": false,
    "editable": false,
    "nbgrader": {
     "cell_type": "code",
     "checksum": "9de80979f8f2de887c48c13d72f85de0",
     "grade": true,
     "grade_id": "cell-b494169726bf125a",
     "locked": true,
     "points": 0,
     "schema_version": 3,
     "solution": false,
     "task": false
    }
   },
   "outputs": [],
   "source": [
    "assert abs(windy_rain() - 0.0412698) < 1e-6"
   ]
  },
  {
   "cell_type": "markdown",
   "metadata": {
    "deletable": false,
    "editable": false,
    "nbgrader": {
     "cell_type": "markdown",
     "checksum": "57c0a806fe10ff6209d14c6f7387b853",
     "grade": false,
     "grade_id": "cell-deed4e7799ec9f4c",
     "locked": true,
     "schema_version": 3,
     "solution": false,
     "task": false
    }
   },
   "source": [
    "### Problem 14: Filtering and computing a sum\n",
    "Write a function that take a month as an argument and returns the total rainfall during the month."
   ]
  },
  {
   "cell_type": "code",
   "execution_count": null,
   "metadata": {
    "deletable": false,
    "nbgrader": {
     "cell_type": "code",
     "checksum": "c5c77b64a512c48a596822bd6a17835d",
     "grade": false,
     "grade_id": "cell-41be4af1650f2589",
     "locked": false,
     "schema_version": 3,
     "solution": true,
     "task": false
    }
   },
   "outputs": [],
   "source": [
    "def monthly_rain(month):\n",
    "    # YOUR CODE HERE\n",
    "    raise NotImplementedError()"
   ]
  },
  {
   "cell_type": "code",
   "execution_count": null,
   "metadata": {
    "deletable": false,
    "editable": false,
    "nbgrader": {
     "cell_type": "code",
     "checksum": "3b10a4e0f26e4459b195191522435e51",
     "grade": true,
     "grade_id": "cell-41a23767c5b3538c",
     "locked": true,
     "points": 0,
     "schema_version": 3,
     "solution": false,
     "task": false
    }
   },
   "outputs": [],
   "source": [
    "assert abs(monthly_rain(\"aug\") - 10.8) < 1e-6\n",
    "assert abs(monthly_rain(\"mar\") - 0.2) < 1e-6"
   ]
  },
  {
   "cell_type": "markdown",
   "metadata": {
    "deletable": false,
    "editable": false,
    "nbgrader": {
     "cell_type": "markdown",
     "checksum": "cb444bbbf15e78d1402f9f14dc5c07af",
     "grade": false,
     "grade_id": "cell-1740e4dada75f6e4",
     "locked": true,
     "schema_version": 3,
     "solution": false,
     "task": false
    }
   },
   "source": [
    "### Problem 15: Loading Pandas data frames\n",
    "Download the white wine dataset from [https://archive.ics.uci.edu/ml/machine-learning-databases/wine-quality/winequality-white.csv](https://archive.ics.uci.edu/ml/machine-learning-databases/wine-quality/winequality-white.csv), and load it into a Pandas dataframe called `df`."
   ]
  },
  {
   "cell_type": "code",
   "execution_count": null,
   "metadata": {
    "deletable": false,
    "nbgrader": {
     "cell_type": "code",
     "checksum": "0de2d88522701f9ea3f0d758b0172be2",
     "grade": false,
     "grade_id": "cell-f263f757e0de4beb",
     "locked": false,
     "schema_version": 3,
     "solution": true,
     "task": false
    }
   },
   "outputs": [],
   "source": [
    "from urllib import request\n",
    "from os import path\n",
    "import pandas as pd\n",
    "\n",
    "url = \"https://archive.ics.uci.edu/ml/machine-learning-databases/wine-quality/\"\n",
    "fn = \"winequality-white.csv\"\n",
    "# YOUR CODE HERE\n",
    "raise NotImplementedError()"
   ]
  },
  {
   "cell_type": "code",
   "execution_count": null,
   "metadata": {
    "deletable": false,
    "editable": false,
    "nbgrader": {
     "cell_type": "code",
     "checksum": "9033d3f3f2df3e5315e7ebe4cf983bee",
     "grade": true,
     "grade_id": "cell-68523472e0373632",
     "locked": true,
     "points": 0,
     "schema_version": 3,
     "solution": false,
     "task": false
    }
   },
   "outputs": [],
   "source": [
    "assert abs(df[\"citric acid\"].mean() - 0.3341915) < 1e-8"
   ]
  },
  {
   "cell_type": "markdown",
   "metadata": {
    "deletable": false,
    "editable": false,
    "nbgrader": {
     "cell_type": "markdown",
     "checksum": "875cd2d283dfc9d0d50b2e87e0102d03",
     "grade": false,
     "grade_id": "cell-8c2ce55717e20069",
     "locked": true,
     "schema_version": 3,
     "solution": false,
     "task": false
    }
   },
   "source": [
    "### Problem 16: pipe\n",
    "Write a function that takes a user-defined function as an argument.\n",
    "It uses `pipe` to apply the function to each wine pH, and returns the mean of the values returned by the user-defined function."
   ]
  },
  {
   "cell_type": "code",
   "execution_count": null,
   "metadata": {
    "deletable": false,
    "nbgrader": {
     "cell_type": "code",
     "checksum": "7748001452465ce171b3f24bbeefe2a4",
     "grade": false,
     "grade_id": "cell-cb307124b2001682",
     "locked": false,
     "schema_version": 3,
     "solution": true,
     "task": false
    }
   },
   "outputs": [],
   "source": [
    "def mean_ph(user_fun):\n",
    "    # YOUR CODE HERE\n",
    "    raise NotImplementedError()"
   ]
  },
  {
   "cell_type": "code",
   "execution_count": null,
   "metadata": {
    "deletable": false,
    "editable": false,
    "nbgrader": {
     "cell_type": "code",
     "checksum": "cc519d15d19bc1283d9ed8814682ab2a",
     "grade": true,
     "grade_id": "cell-66349e8134132db2",
     "locked": true,
     "points": 0,
     "schema_version": 3,
     "solution": false,
     "task": false
    }
   },
   "outputs": [],
   "source": [
    "assert abs(mean_ph(lambda x: x**2) - (df.pH ** 2).mean()) < 1e-8"
   ]
  },
  {
   "cell_type": "markdown",
   "metadata": {
    "deletable": false,
    "editable": false,
    "nbgrader": {
     "cell_type": "markdown",
     "checksum": "491fd7476da7bfa615c5bb8dc6bc3132",
     "grade": false,
     "grade_id": "cell-7c49ec1eeca2361f",
     "locked": true,
     "schema_version": 3,
     "solution": false,
     "task": false
    }
   },
   "source": [
    "### Problem 17: groupby\n",
    "Use the Pandas `groupby` function to create a function that takes no arguments and returns the mean citric acid for wines with each quality level as a series indexed by quality."
   ]
  },
  {
   "cell_type": "code",
   "execution_count": null,
   "metadata": {
    "deletable": false,
    "nbgrader": {
     "cell_type": "code",
     "checksum": "689e30c7e044fc2b81abd0447361ed2c",
     "grade": false,
     "grade_id": "cell-f4f4d36f6804ca64",
     "locked": false,
     "schema_version": 3,
     "solution": true,
     "task": false
    }
   },
   "outputs": [],
   "source": [
    "def quality_mean():\n",
    "    # YOUR CODE HERE\n",
    "    raise NotImplementedError()"
   ]
  },
  {
   "cell_type": "code",
   "execution_count": null,
   "metadata": {
    "deletable": false,
    "editable": false,
    "nbgrader": {
     "cell_type": "code",
     "checksum": "fc981e9249ea0b7dda6e741cc14a7089",
     "grade": true,
     "grade_id": "cell-68c8595f920e6379",
     "locked": true,
     "points": 0,
     "schema_version": 3,
     "solution": false,
     "task": false
    }
   },
   "outputs": [],
   "source": [
    "assert abs(quality_mean()[9] - 0.386) < 1e-8"
   ]
  }
 ],
 "metadata": {
  "kernelspec": {
   "display_name": "Python 3 (ipykernel)",
   "language": "python",
   "name": "python3"
  },
  "language_info": {
   "codemirror_mode": {
    "name": "ipython",
    "version": 3
   },
   "file_extension": ".py",
   "mimetype": "text/x-python",
   "name": "python",
   "nbconvert_exporter": "python",
   "pygments_lexer": "ipython3",
   "version": "3.11.3"
  }
 },
 "nbformat": 4,
 "nbformat_minor": 4
}
